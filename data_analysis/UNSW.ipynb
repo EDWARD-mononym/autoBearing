{
 "cells": [
  {
   "cell_type": "code",
   "execution_count": 1,
   "id": "8dbe1998",
   "metadata": {},
   "outputs": [],
   "source": [
    "import matplotlib.pyplot as plt\n",
    "import os\n",
    "import pandas as pd\n",
    "import torch"
   ]
  },
  {
   "cell_type": "code",
   "execution_count": 2,
   "id": "20b62386",
   "metadata": {},
   "outputs": [
    {
     "name": "stdout",
     "output_type": "stream",
     "text": [
      "C:\\Work\\ASTAR\\autoBearing\n"
     ]
    }
   ],
   "source": [
    "os.chdir(\"..\")\n",
    "print(os.getcwd())"
   ]
  },
  {
   "cell_type": "code",
   "execution_count": 3,
   "id": "988c4d06",
   "metadata": {},
   "outputs": [],
   "source": [
    "from data_scripts.UNSW import UNSW"
   ]
  },
  {
   "cell_type": "code",
   "execution_count": 4,
   "id": "79e600f0",
   "metadata": {},
   "outputs": [
    {
     "data": {
      "text/plain": [
       "{'samples': tensor([[[ 0.7850,  0.9658,  0.4987,  ..., -0.4639,  0.0533,  0.2753],\n",
       "          [-0.9426, -0.7306,  0.3942,  ...,  1.4174,  1.6132,  1.1898]],\n",
       " \n",
       "         [[-3.4923, -3.0237, -3.7362,  ..., -0.3395, -0.2667,  0.2048],\n",
       "          [ 0.6762,  1.4948,  1.1994,  ...,  0.5973,  1.2466,  0.8719]],\n",
       " \n",
       "         [[ 0.3031, -0.1880, -0.1696,  ...,  0.0353,  0.0346, -0.0214],\n",
       "          [-0.5345, -0.4639,  0.0533,  ...,  0.4797,  1.7284,  2.1887]],\n",
       " \n",
       "         ...,\n",
       " \n",
       "         [[-0.8741, -0.7109, -0.9157,  ..., -0.9589, -0.2974,  0.4896],\n",
       "          [-1.6838, -1.7294, -1.8278,  ..., -0.6449, -0.5488, -0.3612]],\n",
       " \n",
       "         [[ 1.7618,  1.2831,  1.1031,  ...,  0.5811,  0.9539,  1.4534],\n",
       "          [-1.0778, -0.6943, -1.0461,  ...,  0.0748, -0.7290, -1.3167]],\n",
       " \n",
       "         [[ 0.2371,  0.6236,  1.0152,  ..., -1.0891, -0.4875,  0.1448],\n",
       "          [-1.1956, -0.9589, -0.2974,  ..., -0.4992, -0.4120, -0.1932]]],\n",
       "        dtype=torch.float64),\n",
       " 'labels': tensor([1., 1., 1.,  ..., 0., 0., 0.])}"
      ]
     },
     "execution_count": 4,
     "metadata": {},
     "output_type": "execute_result"
    }
   ],
   "source": [
    "train_path = 'processed_data/UNSW/train.pt'\n",
    "train_file = torch.load(train_path)\n",
    "train_file"
   ]
  },
  {
   "cell_type": "code",
   "execution_count": 6,
   "id": "84ffb4bc",
   "metadata": {},
   "outputs": [
    {
     "data": {
      "text/plain": [
       "torch.Size([2, 1024])"
      ]
     },
     "execution_count": 6,
     "metadata": {},
     "output_type": "execute_result"
    }
   ],
   "source": [
    "train_file['samples'][-1].shape"
   ]
  },
  {
   "cell_type": "code",
   "execution_count": null,
   "id": "ae132079",
   "metadata": {},
   "outputs": [],
   "source": [
    "# Plotting random sample\n",
    "plt.figure(figsize=(18,5))\n",
    "plt.title(f'Healthy vs Faulty samples')\n",
    "plt.plot(train_file['samples'][0][0], label='Horizontal')\n",
    "plt.plot(train_file['samples'][0][1], label='Vertical')\n",
    "\n",
    "plt.legend() \n",
    "plt.show()"
   ]
  }
 ],
 "metadata": {
  "kernelspec": {
   "display_name": "Python 3 (ipykernel)",
   "language": "python",
   "name": "python3"
  },
  "language_info": {
   "codemirror_mode": {
    "name": "ipython",
    "version": 3
   },
   "file_extension": ".py",
   "mimetype": "text/x-python",
   "name": "python",
   "nbconvert_exporter": "python",
   "pygments_lexer": "ipython3",
   "version": "3.11.3"
  }
 },
 "nbformat": 4,
 "nbformat_minor": 5
}
